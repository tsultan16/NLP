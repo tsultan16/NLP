{
 "cells": [
  {
   "cell_type": "markdown",
   "metadata": {},
   "source": [
    "#### Dependency Grammar and Parsing\n",
    "\n",
    "Previously we looked at `constituency grammars` which describe the syntactic structure of sentences in terms of `hierarchical/nested phrasal constituents`.  Another common and useful type of grammar formalism which we will now explore is called `dependency grammars`. In a dependency grammar, the syntax of sentences is described entirely by `binary assymmetric grammatical relations` between words called `dependencies`. Such a relation can be depicted by a `labelled arrow` that goes from a `head` word to its `dependent` word. The dependents of a particular head word play the role of a modifier of that head word.\n",
    "\n",
    "All the dependency relations in a sentence are then captured in what's called a `dependency tree`, as shown in the example below. \n",
    "\n",
    "<img src=\"dependency_tree_example.png\" width=\"430\" height=\"150\">\n",
    "\n",
    "The `head of a sentence is usually a tensed verb`, also called the `predicate` (which in the above example is the verb \"cancelled\"), and all other words connect to this head through a dependency path. Also, each word is a dependent of exactly one head. The root node of the tree is designated as the head of the predicate word which is the head of the entire senetence.\n",
    "\n",
    "Dependency relations can be broadly classified into two main categories: `clausal argument relations` and `nominal  modifier relations`. Clausl relations describe syntactic roles that words play with resepct to the predicate, such as `nominal/noun subject` (the word \"United\" in the example) and `direct/indirect object` (the word \"flights\" in the example). Modifier relations catagorize the ways in which words can modify their heads, such as `adjectival modifiers` (obviously these are adjectives), `nominal modifiers` (these are nounds), `determiners` and `case modifiers` (these are prepositions). In the example above, for the phrase \"morning flights\", the head word is \"flights\" and the dependent word \"morning\" is a nominal modifier of this head. \n",
    "\n",
    "Given any sentence, the goal of a `dependency parser` is to generate the dependency tree of that sentence. There are two main types of dependency parsing algorithms:\n",
    "\n",
    "1) Greedy Transition-Based Parsers\n",
    "\n",
    "2) Graph-Based Parsers\n",
    "\n",
    "Transition-based parsers are implemented as `state machines`. Parsing involves starting from an initial state and executing a sequence of `shift-reduce` operations to reach a goal/terminal state. An `oracle`, is used to decide which operation to execute at each step. Such an oracle is trained using supervised machine learning.\n",
    "\n",
    "On the other hand, a Graph-based method starts with a fully-connected graph (where the words are the vertices and the edges represent all possible head-dependent assignments). Then a `scoring model`, which can also be trained using supervised machine learning, is used to assign scores to each edge (along with scores for all possible labels for an edge). Then, parsing involves finding the optimal tree which has the largest sum of edge scores, which can be done by constructing a `maximum spanning tree` from the initial fully-connected graph."
   ]
  },
  {
   "cell_type": "code",
   "execution_count": null,
   "metadata": {},
   "outputs": [],
   "source": []
  }
 ],
 "metadata": {
  "language_info": {
   "name": "python"
  }
 },
 "nbformat": 4,
 "nbformat_minor": 2
}
