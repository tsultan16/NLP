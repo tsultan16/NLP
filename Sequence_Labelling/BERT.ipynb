{
 "cells": [
  {
   "cell_type": "markdown",
   "metadata": {},
   "source": [
    "#### BERT based Sequence Labeller\n",
    "\n",
    "We've explored training HMM (Viterbi) and RNN-based POS (part of speech) taggers on tagged sentences from the Stanford treebank dataset. We saw that the HMM tagger had a validation accuracy of about 90% and the RNN based tagger had about 91%. We will now try a different type of neural approach. For the RNN, recall that we used pretrained GloVe embeddings to represent the words in a sentence. Since the meaning of words in a sentence can be ambiguous, we should use contextualized vector representations of words instead of fixed GloVe word embeddings to overcome this problem of word sense. Pretrained BERT models are perfect for this task because they can be used to extract contextualized word embedding. \n",
    "\n",
    "In this notebook, we will finetune a BERT model on the POS tagging task. Since BERT uses subword tokenization and POS labels are assigned to whole words, we need to figure out a way of assigning labels to the subword tokens. A simple approach is to assign the POS label of a word to the first subword in the sequence of subwords corresponding to that word, then assign a special tag 'X' to the remaining subwords, which indicates a continuation of the preceding POS label. e.g.\n",
    "\n",
    "`(spokesman, NN)` --> {`(spokes, NN)`, `(##man, X)`}\n",
    "\n"
   ]
  },
  {
   "cell_type": "code",
   "execution_count": 1,
   "metadata": {},
   "outputs": [],
   "source": [
    "import torch\n",
    "import torch.nn.functional as F\n",
    "from torch.utils.data import Dataset, DataLoader\n",
    "from transformers import RobertaTokenizerFast, RobertaModel, get_linear_schedule_with_warmup\n",
    "from nltk.corpus import treebank\n",
    "from tqdm import tqdm\n",
    "import psutil"
   ]
  },
  {
   "cell_type": "markdown",
   "metadata": {},
   "source": [
    "#### Set up the dataset."
   ]
  },
  {
   "cell_type": "code",
   "execution_count": 17,
   "metadata": {},
   "outputs": [
    {
     "name": "stdout",
     "output_type": "stream",
     "text": [
      "Number of sentences:  3914\n",
      "Longest sentence length: 271\n"
     ]
    },
    {
     "data": {
      "image/png": "[encoded data removed]",
      "text/plain": [
       "<Figure size 640x480 with 1 Axes>"
      ]
     },
     "metadata": {},
     "output_type": "display_data"
    }
   ],
   "source": [
    "# get the POS tagged corpus, 3914 tagged sentences\n",
    "corpus = treebank.tagged_sents()\n",
    "print(\"Number of sentences: \", len(corpus))\n",
    "print(f\"Longest sentence length: {max([len(s) for s in corpus])}\")\n",
    "\n",
    "# create training-validation splits\n",
    "num_train = int(0.9 * len(corpus))\n",
    "train_corpus = corpus[:num_train]\n",
    "val_corpus = corpus[num_train:]\n",
    "\n",
    "# histogram of sent_lens\n",
    "import matplotlib.pyplot as plt\n",
    "sent_lens = [len(s) for s in corpus] \n",
    "plt.hist(sent_lens, bins=50)\n",
    "plt.show()        "
   ]
  },
  {
   "cell_type": "code",
   "execution_count": 24,
   "metadata": {},
   "outputs": [],
   "source": [
    "class Treebank(Dataset):\n",
    "    def __init__(self, corpus, block_size=128):\n",
    "        self.block_size = block_size\n",
    "        # get the sentences and labels\n",
    "        self.sentences = [[elem[0] for elem in s] for s in corpus]\n",
    "        self.pos_labels = [[elem[1] for elem in s] for s in corpus]\n",
    "        # define special tag\n",
    "        self.continuation_tag = \"X\"\n",
    "        # get tag set\n",
    "        self.tags = sorted([self.continuation_tag] + list(set([elem[1] for s in corpus for elem in s])))\n",
    "        # tag to idx mapping\n",
    "        self.tag2idx = {tag: idx for idx, tag in enumerate(self.tags)}\n",
    "        self.tokenizer = RobertaTokenizerFast.from_pretrained('roberta-base', add_prefix_space=True)\n",
    "\n",
    "    @property\n",
    "    def num_tags(self):\n",
    "        return len(self.tags)\n",
    "\n",
    "    def __len__(self):\n",
    "        return len(self.sentences)\n",
    "\n",
    "    def __getitem__(self, idx):\n",
    "        # get sentence and labels\n",
    "        sentence = self.sentences[idx]\n",
    "        labels = self.pos_labels[idx]\n",
    "        # tokenize the sentence\n",
    "        input_encoding = self.tokenizer.encode_plus(sentence, is_split_into_words=True, return_offsets_mapping=False, padding=False, truncation=False, add_special_tokens=True)\n",
    "        input_idx = input_encoding['input_ids']\n",
    "        word_ids = input_encoding.word_ids()\n",
    "\n",
    "        # truncate the input sequence if it is too long\n",
    "        if len(input_idx) > self.block_size:\n",
    "            input_idx = input_idx[:self.block_size-1] + input_idx[-1]\n",
    "            word_ids = word_ids[:self.block_size-1] + word_ids[-1]\n",
    "        word_ids = word_ids[1:-1]     \n",
    "\n",
    "        # assign labels to subword tokens (we use -100 as label for special tokens)\n",
    "        labels_subword = [-100]\n",
    "        for i in range(len(word_ids)):\n",
    "            if word_ids[i] != word_ids[i-1]:\n",
    "                labels_subword.append(self.tag2idx[labels[word_ids[i]]])\n",
    "            else:\n",
    "                labels_subword.append(self.tag2idx[\"X\"]) \n",
    "        labels_subword.append(-100)           \n",
    "\n",
    "        # add padding \n",
    "        input_idx = input_idx + [self.tokenizer.pad_token_id] * (self.block_size - len(input_idx))    \n",
    "        labels_subword = labels_subword + [-100] * (self.block_size - len(labels_subword))    \n",
    "        # create attention mask \n",
    "        input_attn_mask = [1 if idx != self.tokenizer.pad_token_id else 0 for idx in input_idx]\n",
    "\n",
    "        # convert to tensors\n",
    "        input_idx = torch.tensor(input_idx)\n",
    "        labels_subword = torch.tensor(labels_subword)\n",
    "        input_attn_mask = torch.tensor(input_attn_mask) \n",
    "        \n",
    "        return input_idx, labels_subword, input_attn_mask   "
   ]
  },
  {
   "cell_type": "markdown",
   "metadata": {},
   "source": [
    "#### Create the POS tagger model"
   ]
  },
  {
   "cell_type": "code",
   "execution_count": null,
   "metadata": {},
   "outputs": [],
   "source": [
    "class BERTPOS(torch.nn.Module):\n",
    "    def __init__(self, num_classes, dropout_rate=0.1):\n",
    "        super().__init__()\n",
    "        # load pretrained BERT model\n",
    "        #self.bert_encoder = BertModel.from_pretrained('bert-base-uncased')\n",
    "        self.bert_encoder = RobertaModel.from_pretrained('roberta-base')\n",
    "        self.dropout = torch.nn.Dropout(dropout_rate)\n",
    "        # define classifier head\n",
    "        self.classifier_head = torch.nn.Linear(768, num_classes)\n",
    "        # make sure BERT parameters are trainable\n",
    "        for param in self.bert_encoder.parameters():\n",
    "            param.requires_grad = True\n",
    "\n",
    "    def forward(self, input_idx, input_attn_mask, targets=None):\n",
    "        # compute BERT embeddings for input tokens\n",
    "        bert_output = self.bert_encoder(input_idx, attention_mask=input_attn_mask)\n",
    "        bert_output = self.dropout(bert_output.last_hidden_state) # shape: (batch_size, block_size, hidden_size)\n",
    "        # compute output logits\n",
    "        logits = self.classifier_head(bert_output) # shape: (batch_size, block_size, num_classes)\n",
    "        # reshape logits to (batch_size * block_size, num_classes)\n",
    "        logits = logits.view(-1, logits.shape[-1])\n",
    "        # reshape targets to (batch_size * block_size)\n",
    "        if targets is not None:\n",
    "            targets = targets.view(-1)\n",
    "        # compute cross-entropy loss\n",
    "        loss = None\n",
    "        if targets is not None:\n",
    "            loss = F.cross_entropy(logits, targets, ignore_index=-100)\n",
    "        return logits, loss"
   ]
  },
  {
   "cell_type": "code",
   "execution_count": 25,
   "metadata": {},
   "outputs": [],
   "source": [
    "train_dataset = Treebank(train_corpus)\n",
    "val_dataset = Treebank(val_corpus)"
   ]
  },
  {
   "cell_type": "code",
   "execution_count": null,
   "metadata": {},
   "outputs": [],
   "source": []
  },
  {
   "cell_type": "code",
   "execution_count": null,
   "metadata": {},
   "outputs": [],
   "source": []
  }
 ],
 "metadata": {
  "kernelspec": {
   "display_name": "haystack",
   "language": "python",
   "name": "python3"
  },
  "language_info": {
   "codemirror_mode": {
    "name": "ipython",
    "version": 3
   },
   "file_extension": ".py",
   "mimetype": "text/x-python",
   "name": "python",
   "nbconvert_exporter": "python",
   "pygments_lexer": "ipython3",
   "version": "3.10.13"
  }
 },
 "nbformat": 4,
 "nbformat_minor": 2
}
