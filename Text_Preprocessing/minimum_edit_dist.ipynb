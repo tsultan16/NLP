{
 "cells": [
  {
   "cell_type": "code",
   "execution_count": 22,
   "metadata": {},
   "outputs": [],
   "source": [
    "import numpy as np"
   ]
  },
  {
   "cell_type": "markdown",
   "metadata": {},
   "source": [
    "#### The `Minimum Edit Distance` is defined as the minimum total cost of operations required to transform a source string of characters into a given target string. We will consider three possible operations, `insertion` of a character into source string, `deletion` of a character from source string and `substituting` a character from the source string with any charcter from the vocabulary. We will assign a cost of 1 for insertion/deletion and cost of 2 for substitution (a substitution can be thought of as a deletion followed by an insertion, also a substitution of a character with itself has zero cost).\n",
    "\n",
    "#### The minimim edit distance between two strings can be computed using `dynamic programming`. Given a string `X` of length `n` and a string `Y` of length `m`, we first define `D[i,m]` as the minimum edit distance between `X[0:i]` and `Y[0:j]`, i.e. the substring containing first i characters of X and first j characters of Y (note that X[0] and Y[0] are defined as the empty string). Dynamic programming allows us to compose the solutions to these subproblems to compute the edit distance between X and Y which is given by `D[n,m]`. To use dynamic programming, we first note the base case, D[i,0] = i (this is because going from a source string containing first i characters of X to the empty string target requires i delete operations and hence cost i)  and D[0,j] = j (because going from the empty source string to the target containing first j characters of the Y requires j insert operations and hence cost j). Then we note that the following recursion relation allows us to compute all other values of D[i,j] starting from the base case:\n",
    "\n",
    "#### $D[i,j] = min(D[i-1,j] + del\\_cost(X[i]), D[i,j-1] + insert\\_cost(Y[j]), D[i-1,j-1] + substitute\\_cost(X[i],Y[j]))$\n",
    "\n",
    "#### Note that this equation takes the minimum of three possible paths through the D[i,j] matrix. Intuitively, consider that we know the costs D[i-1,j], D[i,j-1] and D[i-1,j-1]. Now note that if we delete the ith character (X[i]) from X[1:i] to get X[1:i-1] and then transform it to Y[1:j] which costs D[i-1,j], then the cost of transforming X[1:i] to Y[1:j] is simply the cost of D[i-1,j] plus the cost of that one delete operation. Similarly a second path would be to first transform X[1:i] to get Y[1:j-1] and then insert the jth character of Y (Y[j]) into Y[1:j-1], which has cost D[i,j-1] plus the cost of that one insertion. Finally, the third possible path is that given X[1:i], we can just transform the first (i-1) characters in X, i.e. X[1:i-1] into Y[1:j-1], then just swap the ith character (X[i]) with the jth character of Y (Y[j]), which has cost D[i-1,j-1] plus the cost of the swapping. Then the optimal cost D[i,j] is just the minimum of these three possibilities.  \n"
   ]
  },
  {
   "cell_type": "code",
   "execution_count": 39,
   "metadata": {},
   "outputs": [],
   "source": [
    "def minimum_edit_dist(s1, s2):\n",
    "    n = len(s1)\n",
    "    m = len(s2)\n",
    "    D = np.zeros(shape=(n+1,m+1))\n",
    "    # base case initialization\n",
    "    D[0,:] = np.arange(0,m+1)\n",
    "    D[:,0] = np.arange(0,n+1)\n",
    "    parent_pointers = {}\n",
    "    for i in range(1,n+1):\n",
    "        for j in range(1,m+1):\n",
    "            c1 = D[i-1,j] + 1\n",
    "            c2 = D[i,j-1] + 1\n",
    "            c3 = D[i-1,j-1] + 2 if (s1[i-1] != s2[j-1]) else D[i-1,j-1]\n",
    "            D[i,j] = min(c1, c2, c3)\n",
    "            costs = [c1,c2,c3]\n",
    "            parents = [(i-1,j), (i,j-1), (i-1,j-1)]\n",
    "            min_cost = D[i,j]\n",
    "            p = [parents[i] for i in range(3) if costs[i]==min_cost]\n",
    "            parent_pointers[(i,j)] = p\n",
    "\n",
    "    # get the minimum edit distance\n",
    "    min_dist = D[n,m]\n",
    "    print(\"D = \")\n",
    "    print(D)\n",
    "    print(f\"Parent pointers: {parent_pointers}\")\n"
   ]
  },
  {
   "cell_type": "code",
   "execution_count": 40,
   "metadata": {},
   "outputs": [
    {
     "name": "stdout",
     "output_type": "stream",
     "text": [
      "D = \n",
      "[[ 0.  1.  2.  3.  4.  5.  6.  7.  8.  9.]\n",
      " [ 1.  2.  3.  4.  5.  6.  7.  6.  7.  8.]\n",
      " [ 2.  3.  4.  5.  6.  7.  8.  7.  8.  7.]\n",
      " [ 3.  4.  5.  6.  7.  8.  7.  8.  9.  8.]\n",
      " [ 4.  3.  4.  5.  6.  7.  8.  9. 10.  9.]\n",
      " [ 5.  4.  5.  6.  7.  8.  9. 10. 11. 10.]\n",
      " [ 6.  5.  6.  7.  8.  9.  8.  9. 10. 11.]\n",
      " [ 7.  6.  7.  8.  9. 10.  9.  8.  9. 10.]\n",
      " [ 8.  7.  8.  9. 10. 11. 10.  9.  8.  9.]\n",
      " [ 9.  8.  9. 10. 11. 12. 11. 10.  9.  8.]]\n",
      "Parent pointers: {(1, 1): [(0, 1), (1, 0), (0, 0)], (1, 2): [(0, 2), (1, 1), (0, 1)], (1, 3): [(0, 3), (1, 2), (0, 2)], (1, 4): [(0, 4), (1, 3), (0, 3)], (1, 5): [(0, 5), (1, 4), (0, 4)], (1, 6): [(0, 6), (1, 5), (0, 5)], (1, 7): [(0, 6)], (1, 8): [(1, 7)], (1, 9): [(1, 8)], (2, 1): [(1, 1), (2, 0), (1, 0)], (2, 2): [(1, 2), (2, 1), (1, 1)], (2, 3): [(1, 3), (2, 2), (1, 2)], (2, 4): [(1, 4), (2, 3), (1, 3)], (2, 5): [(1, 5), (2, 4), (1, 4)], (2, 6): [(1, 6), (2, 5), (1, 5)], (2, 7): [(1, 7)], (2, 8): [(1, 8), (2, 7), (1, 7)], (2, 9): [(1, 8)], (3, 1): [(2, 1), (3, 0), (2, 0)], (3, 2): [(2, 2), (3, 1), (2, 1)], (3, 3): [(2, 3), (3, 2), (2, 2)], (3, 4): [(2, 4), (3, 3), (2, 3)], (3, 5): [(2, 5), (3, 4), (2, 4)], (3, 6): [(2, 5)], (3, 7): [(2, 7), (3, 6)], (3, 8): [(2, 8), (3, 7), (2, 7)], (3, 9): [(2, 9)], (4, 1): [(3, 0)], (4, 2): [(4, 1)], (4, 3): [(4, 2), (3, 2)], (4, 4): [(4, 3)], (4, 5): [(4, 4)], (4, 6): [(3, 6), (4, 5)], (4, 7): [(3, 7), (4, 6), (3, 6)], (4, 8): [(3, 8), (4, 7), (3, 7)], (4, 9): [(3, 9)], (5, 1): [(4, 1)], (5, 2): [(4, 2), (5, 1), (4, 1)], (5, 3): [(4, 3), (5, 2), (4, 2)], (5, 4): [(4, 4), (5, 3), (4, 3)], (5, 5): [(4, 5), (5, 4), (4, 4)], (5, 6): [(4, 6), (5, 5), (4, 5)], (5, 7): [(4, 7), (5, 6), (4, 6)], (5, 8): [(4, 8), (5, 7), (4, 7)], (5, 9): [(4, 9), (4, 8)], (6, 1): [(5, 1)], (6, 2): [(5, 2), (6, 1), (5, 1)], (6, 3): [(5, 3), (6, 2), (5, 2)], (6, 4): [(5, 4), (6, 3), (5, 3)], (6, 5): [(5, 5), (6, 4), (5, 4)], (6, 6): [(5, 5)], (6, 7): [(6, 6)], (6, 8): [(6, 7)], (6, 9): [(5, 9), (6, 8)], (7, 1): [(6, 1)], (7, 2): [(6, 2), (7, 1), (6, 1)], (7, 3): [(6, 3), (7, 2), (6, 2)], (7, 4): [(6, 4), (7, 3), (6, 3)], (7, 5): [(6, 5), (7, 4), (6, 4)], (7, 6): [(6, 6)], (7, 7): [(6, 6)], (7, 8): [(7, 7)], (7, 9): [(7, 8)], (8, 1): [(7, 1)], (8, 2): [(7, 2), (8, 1), (7, 1)], (8, 3): [(7, 3), (8, 2), (7, 2)], (8, 4): [(7, 4), (8, 3), (7, 3)], (8, 5): [(7, 5), (8, 4), (7, 4)], (8, 6): [(7, 6)], (8, 7): [(7, 7)], (8, 8): [(7, 7)], (8, 9): [(8, 8)], (9, 1): [(8, 1)], (9, 2): [(8, 2), (9, 1), (8, 1)], (9, 3): [(8, 3), (9, 2), (8, 2)], (9, 4): [(8, 4), (9, 3), (8, 3)], (9, 5): [(8, 5), (9, 4), (8, 4)], (9, 6): [(8, 6)], (9, 7): [(8, 7)], (9, 8): [(8, 8)], (9, 9): [(8, 8)]}\n"
     ]
    }
   ],
   "source": [
    "minimum_edit_dist(\"intention\", \"execution\")"
   ]
  },
  {
   "cell_type": "code",
   "execution_count": null,
   "metadata": {},
   "outputs": [],
   "source": []
  },
  {
   "cell_type": "code",
   "execution_count": null,
   "metadata": {},
   "outputs": [],
   "source": []
  }
 ],
 "metadata": {
  "kernelspec": {
   "display_name": "torch_clone",
   "language": "python",
   "name": "python3"
  },
  "language_info": {
   "codemirror_mode": {
    "name": "ipython",
    "version": 3
   },
   "file_extension": ".py",
   "mimetype": "text/x-python",
   "name": "python",
   "nbconvert_exporter": "python",
   "pygments_lexer": "ipython3",
   "version": "3.11.5"
  }
 },
 "nbformat": 4,
 "nbformat_minor": 2
}
