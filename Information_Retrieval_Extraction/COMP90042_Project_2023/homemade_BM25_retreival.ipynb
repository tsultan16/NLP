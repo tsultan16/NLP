{
 "cells": [
  {
   "cell_type": "markdown",
   "metadata": {},
   "source": [
    "#### COMP90042 2023 Project: Automated Fact Checking For Climate Science Claims\n",
    "\n",
    "The goal of this project is to design and implement a system that takes a given `claim` (which is a single sentence) and then retrieves (one or more) `evidence passages` (each passage is also a single sentence) from a document store, then using these evidence passages classifies the claim as one of these four labels: `[SUPPORTS, REFUTES, NOT_ENOUGH_INFO, DISPUTED]`.  \n",
    "\n",
    "Our training data consists of a document store which is a set of $D$ evidence passages `{evidence-1, evidence-2, ..., evidence-D}` and training and validation data instances where each instance is a tuple of the form `(claim_text, claim_label, evidence_list)`, where evidence list is a subset of passages from the document store.\n",
    "\n",
    "In this notebook, we explore the use of `BM25` for passage retreival and evaluate it's performance on the project dataset. Evaluation will involve comparing retreived evidence passages for each data instance with the ground truth evidence list  and computing precision, recall and F1 score. Then we will use the `average F1 score` across all data instances as the final evaluation metric."
   ]
  },
  {
   "cell_type": "code",
   "execution_count": 34,
   "metadata": {},
   "outputs": [],
   "source": [
    "from nltk.tokenize import RegexpTokenizer\n",
    "from nltk.corpus import stopwords\n",
    "from nltk.stem import PorterStemmer\n",
    "from collections import defaultdict\n",
    "from unidecode import unidecode\n",
    "import math, random\n",
    "from tqdm import tqdm\n",
    "import json\n",
    "import numpy as np\n",
    "import matplotlib.pyplot as plt"
   ]
  },
  {
   "cell_type": "markdown",
   "metadata": {},
   "source": [
    "#### Below is my implementation of a simple BM25 retreival system. Will later replace this with the PyLucene implementation."
   ]
  },
  {
   "cell_type": "code",
   "execution_count": 36,
   "metadata": {},
   "outputs": [],
   "source": [
    "class IR_System():\n",
    "    def __init__(self, k = 1.25, b = 0.75, remove_stopwords=False, apply_stemming=False):\n",
    "        self.k = k\n",
    "        self.b = b\n",
    "        self.remove_stopwords = remove_stopwords\n",
    "        self.apply_stemming = apply_stemming\n",
    "        self.tokenizer = RegexpTokenizer(r'\\w+') \n",
    "        if remove_stopwords:\n",
    "            self.stopwords = stopwords.words('english')\n",
    "        if apply_stemming:\n",
    "            self.stemmer = PorterStemmer()      \n",
    "\n",
    "    def train(self, documents):\n",
    "        self.documents = documents\n",
    "        self.TFIDF, self.inverted_index, self.doc_tfidf_norms = self.create_inverted_index()\n",
    "        \n",
    "    def tokenize(self, sent):\n",
    "        # Replace accented letters with regular letters\n",
    "        sent = unidecode(sent)\n",
    "        # tokenize into words, remove punctuation\n",
    "        words = self.tokenizer.tokenize(sent.lower())\n",
    "        # remove stopwords\n",
    "        if self.remove_stopwords:\n",
    "            words = [w for w in words if w not in self.stopwords]\n",
    "        # apply stemming to each word\n",
    "        if self.apply_stemming:    \n",
    "            words = [self.stemmer.stem(w) for w in words]\n",
    "        return words\n",
    "\n",
    "    def create_inverted_index(self):\n",
    "        N = len(self.documents)\n",
    "        TFIDF = defaultdict(float)\n",
    "        inverted_index = defaultdict(list)\n",
    "\n",
    "        # compute term frequency and document frequencies\n",
    "        TF, term_docs = self.compute_TF_weighted()\n",
    "\n",
    "        # create inverted index\n",
    "        print(f\"Computing TFIDF and creating inverted index...\")\n",
    "        for w, docs in tqdm(term_docs.items(), total=len(term_docs)):\n",
    "            for d in sorted(list(docs)):\n",
    "                tfidf = TF[(w,d)] * math.log10(N/len(docs))\n",
    "                inverted_index[w].append(d)\n",
    "                TFIDF[(w,d)] = tfidf\n",
    "\n",
    "        # compute document TFIDF vector norms\n",
    "        print(f\"Computing TFIDF vector norms...\")\n",
    "        doc_tfidf_norms = [0] * N\n",
    "        for d, doc in tqdm(enumerate(self.documents), total=len(self.documents)):\n",
    "            words = self.tokenize(doc)\n",
    "            for w in words:\n",
    "                doc_tfidf_norms[d] = doc_tfidf_norms[d] +  TFIDF[(w,d)]**2\n",
    "            doc_tfidf_norms[d] = math.sqrt(doc_tfidf_norms[d])\n",
    "\n",
    "        return TFIDF, inverted_index, doc_tfidf_norms  \n",
    "          \n",
    "    # weighted TF for BM25\n",
    "    def compute_TF_weighted(self):\n",
    "        TF = defaultdict(int)\n",
    "        term_docs = defaultdict(set)\n",
    "        doc_length = defaultdict(float)\n",
    "        Dtotal = 0\n",
    "        print(f\"Computing TFIDF...\")\n",
    "        for d, doc in tqdm(enumerate(self.documents), total=len(self.documents)):\n",
    "            words = self.tokenize(doc)\n",
    "            for w in words:\n",
    "                TF[(w, d)] += 1\n",
    "                term_docs[w].add(d)\n",
    "            doc_length[d] = len(words)\n",
    "            Dtotal += len(words)\n",
    "        Davg = Dtotal / len(self.documents)\n",
    "\n",
    "        # compute BM25 weighted term frequencies\n",
    "        TF_weighted = defaultdict(float)\n",
    "        for (w,d), tf in TF.items():\n",
    "            TF_weighted[(w,d)] = (tf * (self.k + 1)) / (tf + self.k * (1 - self.b + self.b * (doc_length[d]/Davg)))\n",
    "        return TF_weighted, term_docs\n",
    "    \n",
    "\n",
    "    def retrieve_docs(self, query, topk=1):\n",
    "        # for retrieval, we will remove stopwords from the query\n",
    "        query_words = self.tokenize(query.lower())\n",
    "        #print(f\"query words: {query_words}\")\n",
    "        # get all documents which contain words from query\n",
    "        docs = []\n",
    "        for w in query_words:\n",
    "            docs.extend([d for d in self.inverted_index[w]])\n",
    "        # remove duplicates\n",
    "        docs = list(set(docs))\n",
    "        #print(f\"docs: {docs}\")    \n",
    "        # score all these documents\n",
    "        scores = np.zeros(len(docs))\n",
    "        for i in range(len(docs)):\n",
    "            d = docs[i]\n",
    "            for w in query_words:\n",
    "                scores[i] += self.TFIDF[(w,d)]\n",
    "            scores[i] = scores[i] / self.doc_tfidf_norms[d]        \n",
    "        #print(f\"scores: {scores}\")  \n",
    "\n",
    "        sorted_indices = np.argsort(scores)[::-1]\n",
    "        best_indices = sorted_indices[:topk]\n",
    "        best_scores = scores[best_indices]\n",
    "        topk_doc_indices = [docs[idx] for idx in best_indices]\n",
    "        return topk_doc_indices, best_scores\n"
   ]
  },
  {
   "cell_type": "markdown",
   "metadata": {},
   "source": [
    "#### Let's load up the data, both document store (`evidence.json`) and training/validation instances (`train-claims.json`, `dev-claims.json`)."
   ]
  },
  {
   "cell_type": "code",
   "execution_count": 3,
   "metadata": {},
   "outputs": [
    {
     "name": "stdout",
     "output_type": "stream",
     "text": [
      "Number of evidence passages: 1208827\n",
      "Number of training instances: 1228\n",
      "Number of validation instances: 154\n"
     ]
    }
   ],
   "source": [
    "# load the evidence passages\n",
    "with open(\"project-data/evidence.json\", \"r\") as train_file:\n",
    "    document_store = json.load(train_file)         \n",
    "print(f\"Number of evidence passages: {len(document_store)}\")\n",
    "\n",
    "# load the training data insttances\n",
    "with open(\"project-data/train-claims.json\", \"r\") as train_file:\n",
    "    train_data = json.load(train_file)\n",
    "print(f\"Number of training instances: {len(train_data)}\")\n",
    "\n",
    "# load the validation data instances\n",
    "with open(\"project-data/dev-claims.json\", \"r\") as dev_file:\n",
    "    val_data = json.load(dev_file)    \n",
    "print(f\"Number of validation instances: {len(val_data)}\")"
   ]
  },
  {
   "cell_type": "code",
   "execution_count": 4,
   "metadata": {},
   "outputs": [
    {
     "name": "stdout",
     "output_type": "stream",
     "text": [
      "evidence-0: John Bennet Lawes, English entrepreneur and agricultural scientist\n",
      "evidence-1: Lindberg began his professional career at the age of 16, eventually moving to New York City in 1977.\n",
      "evidence-2: ``Boston (Ladies of Cambridge)'' by Vampire Weekend\n",
      "evidence-3: Gerald Francis Goyer (born October 20, 1936) was a professional ice hockey player who played 40 games in the National Hockey League.\n",
      "evidence-4: He detected abnormalities of oxytocinergic function in schizoaffective mania, post-partum psychosis and how ECT modified oxytocin release.\n",
      "evidence-5: With peak winds of 110 mph (175 km/h) and a minimum pressure of 972 mbar (hPa ; 28.71 inHg), Florence was the strongest storm of the 1994 Atlantic hurricane season.\n",
      "evidence-6: He is currently a professor of piano at the University of Wisconsin -- Madison since August 2000.\n",
      "evidence-7: In addition to known and tangible risks, unforeseeable black swan extinction events may occur, presenting an additional methodological problem.\n",
      "evidence-8: Sir John Sherbrooke was able to hold her off for some five hours until Robson suffered a severe wound that almost killed him.\n",
      "evidence-9: Aslan Tlebzu (Аслъан ЛIыбзэу [- adyaːsɬaːn ɬʼəbzaw], Russian : Аслан Тлебзу), born 24 February 1981, Teuchezhsk, Adygea, USSR ; is a Russian Adyghe folk musician.\n",
      "\n",
      "claim-1937: {'claim_text': 'Not only is there no scientific evidence that CO2 is a pollutant, higher CO2 concentrations actually help ecosystems support more plant and animal life.', 'claim_label': 'DISPUTED', 'evidences': ['evidence-442946', 'evidence-1194317', 'evidence-12171']}\n",
      "claim-126: {'claim_text': 'El Niño drove record highs in global temperatures suggesting rise may not be down to man-made emissions.', 'claim_label': 'REFUTES', 'evidences': ['evidence-338219', 'evidence-1127398']}\n",
      "claim-2510: {'claim_text': 'In 1946, PDO switched to a cool phase.', 'claim_label': 'SUPPORTS', 'evidences': ['evidence-530063', 'evidence-984887']}\n",
      "claim-2021: {'claim_text': 'Weather Channel co-founder John Coleman provided evidence that convincingly refutes the concept of anthropogenic global warming.', 'claim_label': 'DISPUTED', 'evidences': ['evidence-1177431', 'evidence-782448', 'evidence-540069', 'evidence-352655', 'evidence-1007867']}\n",
      "claim-2449: {'claim_text': '\"January 2008 capped a 12 month period of global temperature drops on all of the major well respected indicators.', 'claim_label': 'NOT_ENOUGH_INFO', 'evidences': ['evidence-1010750', 'evidence-91661', 'evidence-722725', 'evidence-554161', 'evidence-430839']}\n",
      "claim-851: {'claim_text': 'The last time the planet was even four degrees warmer, Peter Brannen points out in The Ends of the World, his new history of the planet’s major extinction events, the oceans were hundreds of feet higher.', 'claim_label': 'NOT_ENOUGH_INFO', 'evidences': ['evidence-226174', 'evidence-1049316', 'evidence-358301', 'evidence-493329', 'evidence-610497']}\n",
      "claim-2773: {'claim_text': 'Tree-ring proxy reconstructions are reliable before 1960, tracking closely with the instrumental record and other independent proxies.', 'claim_label': 'DISPUTED', 'evidences': ['evidence-974673', 'evidence-602109']}\n",
      "claim-949: {'claim_text': 'Under the most ambitious scenarios, they found a strong likelihood that Antarctica would remain fairly stable.”', 'claim_label': 'DISPUTED', 'evidences': ['evidence-707654', 'evidence-28478', 'evidence-491579']}\n",
      "claim-1019: {'claim_text': 'An additional kick was supplied by an El Niño weather pattern that peaked in 2016 and temporarily warmed much of the surface of the planet, causing the hottest year in a historical record dating to 1880.', 'claim_label': 'NOT_ENOUGH_INFO', 'evidences': ['evidence-863309', 'evidence-61462', 'evidence-639818', 'evidence-757821', 'evidence-263527']}\n",
      "claim-2834: {'claim_text': 'When stomata-derived CO2 (red) is compared to ice core-derived CO2 (blue), the stomata generally show much more variability in the atmospheric CO2 level and often show levels much higher than the ice cores.', 'claim_label': 'SUPPORTS', 'evidences': ['evidence-439640']}\n"
     ]
    }
   ],
   "source": [
    "# examples of some evidence passages\n",
    "j = 0\n",
    "for i, evidence_text in document_store.items():\n",
    "    print(f\"{i}: {evidence_text}\")\n",
    "    j += 1\n",
    "    if j == 10:\n",
    "        break\n",
    "\n",
    "# examples of some training instances\n",
    "print(\"\")\n",
    "j = 0\n",
    "for i, claim in train_data.items():\n",
    "    print(f\"{i}: {claim}\")\n",
    "    j += 1\n",
    "    if j == 10:\n",
    "        break"
   ]
  },
  {
   "cell_type": "markdown",
   "metadata": {},
   "source": [
    "#### Inspect the document store for noisy documents, i.e. documents that may just contain just a few noise words or may be incomplete. Let's get some statistics on lengths of the gold evidence passages."
   ]
  },
  {
   "cell_type": "code",
   "execution_count": 5,
   "metadata": {},
   "outputs": [
    {
     "data": {
      "image/png": "[encoded data removed]",
      "text/plain": [
       "<Figure size 640x480 with 1 Axes>"
      ]
     },
     "metadata": {},
     "output_type": "display_data"
    },
    {
     "name": "stdout",
     "output_type": "stream",
     "text": [
      "Number of bad documents: 83760\n"
     ]
    }
   ],
   "source": [
    "claim_evidence_list = [claim['evidences'] for claim in train_data.values()]\n",
    "claim_evidence_list = claim_evidence_list + [claim['evidences'] for claim in val_data.values()]\n",
    "claim_evidence_list = list(set([evidence for evidence_list in claim_evidence_list for evidence in evidence_list]))\n",
    "evidence_lengths = [len(document_store[ev]) for ev in claim_evidence_list] \n",
    "\n",
    "plt.hist(evidence_lengths, bins=100, range=(0,500))\n",
    "plt.xlabel('Evidence Length')\n",
    "plt.ylabel('Frequency')\n",
    "\n",
    "plt.title('Histogram of Evidence Lengths')\n",
    "plt.show()\n",
    "\n",
    "# we will define \"bad\" documents as ones that have less than 50 characters\n",
    "bad_documents = []\n",
    "for i, evidence_text in document_store.items():\n",
    "    if len(evidence_text) < 50:\n",
    "        bad_documents.append((i, evidence_text))\n",
    "\n",
    "print(f\"Number of bad documents: {len(bad_documents)}\")        "
   ]
  },
  {
   "cell_type": "markdown",
   "metadata": {},
   "source": [
    "#### Let's remove the bad passages (defined as any passage less than 50 characters long) from evidence list."
   ]
  },
  {
   "cell_type": "code",
   "execution_count": 6,
   "metadata": {},
   "outputs": [],
   "source": [
    "document_store_cleaned = {i: evidence_text for i, evidence_text in document_store.items() if len(evidence_text) >= 50}"
   ]
  },
  {
   "cell_type": "markdown",
   "metadata": {},
   "source": [
    "#### Let's train a BM25 model on this cleaned document store. We're setting b to a small value (close to zero) for the BM25 because we don't want to penaliize longer passages.\n",
    "\n",
    "#### We also use stopword removal and Porter stemming on documents and queries."
   ]
  },
  {
   "cell_type": "code",
   "execution_count": 37,
   "metadata": {},
   "outputs": [
    {
     "name": "stdout",
     "output_type": "stream",
     "text": [
      "Computing TFIDF...\n"
     ]
    },
    {
     "name": "stderr",
     "output_type": "stream",
     "text": [
      "100%|██████████| 1125067/1125067 [02:05<00:00, 8935.52it/s]\n"
     ]
    }
   ],
   "source": [
    "# instantiate and train a retirever \n",
    "retreiver = IR_System(k=1.5, b=0.1, remove_stopwords=True, apply_stemming=True)\n",
    "passages = list(document_store_cleaned.values()) \n",
    "retreiver.train(passages)   "
   ]
  },
  {
   "cell_type": "markdown",
   "metadata": {},
   "source": [
    "#### Now let's run some tests. First, we pick a few example training instances and compare the retreived passages with the ground truth evidence list. We also have to pick a value for the top-k parameter for the retreiver, we'll use k=5 for now."
   ]
  },
  {
   "cell_type": "code",
   "execution_count": 12,
   "metadata": {},
   "outputs": [],
   "source": [
    "passage_ids = list(document_store_cleaned.keys())\n",
    "train_claims = list(train_data.values())"
   ]
  },
  {
   "cell_type": "code",
   "execution_count": null,
   "metadata": {},
   "outputs": [
    {
     "name": "stdout",
     "output_type": "stream",
     "text": [
      "Query: The EPA director under Obama said the Clean Power Initiative would have no effect on man-made CO2 emissions.\n",
      "Label: REFUTES\n",
      "\n",
      "Gold evidence list:\n",
      "evidence-825299: In 2014, President Barack Obama proposed a series of Environmental Protection Agency (EPA) regulations, known as the Clean Power Plan that would reduce carbon pollution from coal-fired power plants.\n",
      "evidence-485241: In 2015, Obama also announced the Clean Power Plan, which is the final version of regulations originally proposed by the EPA the previous year, and which pertains to carbon dioxide emissions from power plants.\n",
      "evidence-1175010: The Clean Power Plan was an Obama administration policy aimed at combating global warming that was first proposed in 2014.\n",
      "\n",
      "Score: 1.2176929452967182, evidence-485241: In 2015, Obama also announced the Clean Power Plan, which is the final version of regulations originally proposed by the EPA the previous year, and which pertains to carbon dioxide emissions from power plants.\n",
      "Score: 1.1152823916572838, evidence-825299: In 2014, President Barack Obama proposed a series of Environmental Protection Agency (EPA) regulations, known as the Clean Power Plan that would reduce carbon pollution from coal-fired power plants.\n",
      "Score: 1.1133415856051636, evidence-1191900: Obama said that he \"will not walk away from the promise of clean energy.\n",
      "Score: 1.0734286466313847, evidence-238562: In 2013, Obama announced that he would bypass Congress by ordering the EPA to implement new carbon emissions limits.\n",
      "Score: 1.0282122033632275, evidence-462344: AFP said the Clean Power Plan would have a \"devastating effect on the economy\" and that the resolution would send a \"clear signal to the Paris climate negotiators that that President Obama's expansive green energy agenda does not have support on Capitol Hill.\n",
      "\n",
      "Matching evidence passages: {'evidence-485241', 'evidence-825299'}\n",
      "\n",
      "Precision: 0.4, Recall: 0.6666666666666666, F1: 0.5\n"
     ]
    }
   ],
   "source": [
    "example_claim = train_claims[450]\n",
    "query = example_claim[\"claim_text\"]\n",
    "gold_evidence_list = example_claim[\"evidences\"]\n",
    "print(f\"Query: {query}\")\n",
    "print(f\"Label: {example_claim['claim_label']}\")\n",
    "print(f\"\\nGold evidence list:\")\n",
    "for evidence_id in gold_evidence_list:\n",
    "    print(f\"{evidence_id}: {document_store_cleaned[evidence_id]}\")\n",
    "\n",
    "# retrieve relevant evidence passages\n",
    "print(\"\")\n",
    "topk_doc_indices, best_scores = retreiver.retrieve_docs(query, topk=5)\n",
    "topk_evidence_ids = [passage_ids[idx] for idx in topk_doc_indices]\n",
    "for i, evidence_id in enumerate(topk_evidence_ids):\n",
    "    print(f\"Score: {best_scores[i]}, {evidence_id}: {document_store_cleaned[evidence_id]}\")\n",
    "\n",
    "# evaluation (precision, recall, F1)\n",
    "intersection = set(topk_evidence_ids).intersection(gold_evidence_list)\n",
    "print(f\"\\nMatching evidence passages: {intersection}\")\n",
    "precision = len(intersection) / len(topk_evidence_ids)\n",
    "recall = len(intersection) / len(gold_evidence_list)\n",
    "f1 = (2*precision*recall/(precision + recall)) if (precision + recall) > 0 else 0 \n",
    "print(f\"\\nPrecision: {precision}, Recall: {recall}, F1: {f1}\")"
   ]
  },
  {
   "cell_type": "code",
   "execution_count": null,
   "metadata": {},
   "outputs": [
    {
     "name": "stdout",
     "output_type": "stream",
     "text": [
      "Query: While the Greenland interior is in mass balance, the coastlines are losing ice.\n",
      "Label: SUPPORTS\n",
      "\n",
      "Gold evidence list:\n",
      "evidence-1010458: \"Greenland's Coastal Ice Caps Have Melted Past The Point Of No Return\".\n",
      "evidence-55727: Methods agree that the Totten Glacier has lost ice in recent decades in response to ocean warming and possibly a reduction in local sea ice cover.\n",
      "\n",
      "Score: 1.138751849921622, evidence-1134268: \"Interannual variations of the mass balance of the Antarctica and Greenland ice sheets from GRACE\".\n",
      "Score: 1.0940919257619939, evidence-1200633: Land ice sheets in both Antarctica and Greenland have been losing mass since 2002 and have seen an acceleration of ice mass loss since 2009.\n",
      "Score: 1.0334437624992143, evidence-947243: \"Greenland Glaciers Losing Ice Much Faster, Study Says\".\n",
      "Score: 1.0328675348192762, evidence-44751: According to the study, in 1996 Greenland was losing about per year in volume from its ice sheet.\n",
      "Score: 1.024798479267801, evidence-782976: \"A Reconciled Estimate of Ice-Sheet Mass Balance\".\n",
      "\n",
      "Matching evidence passages: set()\n",
      "\n",
      "Precision: 0.0, Recall: 0.0, F1: 0\n"
     ]
    }
   ],
   "source": [
    "example_claim = train_claims[983]\n",
    "query = example_claim[\"claim_text\"]\n",
    "gold_evidence_list = example_claim[\"evidences\"]\n",
    "print(f\"Query: {query}\")\n",
    "print(f\"Label: {example_claim['claim_label']}\")\n",
    "print(f\"\\nGold evidence list:\")\n",
    "for evidence_id in gold_evidence_list:\n",
    "    print(f\"{evidence_id}: {document_store_cleaned[evidence_id]}\")\n",
    "\n",
    "# retrieve relevant evidence passages\n",
    "print(\"\")\n",
    "topk_doc_indices, best_scores = retreiver.retrieve_docs(query, topk=5)\n",
    "topk_evidence_ids = [passage_ids[idx] for idx in topk_doc_indices]\n",
    "for i, evidence_id in enumerate(topk_evidence_ids):\n",
    "    print(f\"Score: {best_scores[i]}, {evidence_id}: {document_store_cleaned[evidence_id]}\")\n",
    "\n",
    "# evaluation (precision, recall, F1)\n",
    "intersection = set(topk_evidence_ids).intersection(gold_evidence_list)\n",
    "print(f\"\\nMatching evidence passages: {intersection}\")\n",
    "precision = len(intersection) / len(topk_evidence_ids)\n",
    "recall = len(intersection) / len(gold_evidence_list)\n",
    "f1 = (2*precision*recall/(precision + recall)) if (precision + recall) > 0 else 0 \n",
    "print(f\"\\nPrecision: {precision}, Recall: {recall}, F1: {f1}\")"
   ]
  },
  {
   "cell_type": "code",
   "execution_count": null,
   "metadata": {},
   "outputs": [
    {
     "name": "stdout",
     "output_type": "stream",
     "text": [
      "Query: Soares looks at short-term trends which are swamped by natural variations.\n",
      "Label: NOT_ENOUGH_INFO\n",
      "\n",
      "Gold evidence list:\n",
      "evidence-1136019: Phenotypic variation (due to underlying heritable genetic variation) is a fundamental prerequisite for evolution by natural selection.\n",
      "evidence-66602: Without phenotypic variation, there would be no evolution by natural selection.\n",
      "evidence-1147924: It has been argued that this definition is a natural consequence of the effect of sexual reproduction on the dynamics of natural selection.\n",
      "evidence-10820: He established the idea of a taxonomic hierarchy of classification based upon observable characteristics and intended to reflect natural relationships.\n",
      "evidence-270997: Darwin argued that it was populations that evolved, not individuals, by natural selection from naturally occurring variation among individuals.\n",
      "\n",
      "Score: 0.915807265978767, evidence-773024: Second, they describe only the long-term trends, because they are linked to orbital variations with periods of 20,000 years and longer.\n",
      "Score: 0.8854385719244746, evidence-815508: Short term or high frequency variations are due to this turbulence in the boundary layer.\n",
      "Score: 0.8852392594130462, evidence-116773: There are some variations on the use of the term \"sanitation\" between countries.\n",
      "Score: 0.7177469981944666, evidence-529069: There are three phases: Immediate, short term and long term.\n",
      "Score: 0.7133257612601176, evidence-555690: The star also displays short period variations on the order of 2.5 hours.\n",
      "\n",
      "Matching evidence passages: set()\n",
      "\n",
      "Precision: 0.0, Recall: 0.0, F1: 0\n"
     ]
    }
   ],
   "source": [
    "example_claim = train_claims[456]\n",
    "query = example_claim[\"claim_text\"]\n",
    "gold_evidence_list = example_claim[\"evidences\"]\n",
    "print(f\"Query: {query}\")\n",
    "print(f\"Label: {example_claim['claim_label']}\")\n",
    "print(f\"\\nGold evidence list:\")\n",
    "for evidence_id in gold_evidence_list:\n",
    "    print(f\"{evidence_id}: {document_store_cleaned[evidence_id]}\")\n",
    "\n",
    "# retrieve relevant evidence passages\n",
    "print(\"\")\n",
    "topk_doc_indices, best_scores = retreiver.retrieve_docs(query, topk=5)\n",
    "topk_evidence_ids = [passage_ids[idx] for idx in topk_doc_indices]\n",
    "for i, evidence_id in enumerate(topk_evidence_ids):\n",
    "    print(f\"Score: {best_scores[i]}, {evidence_id}: {document_store_cleaned[evidence_id]}\")\n",
    "\n",
    "# evaluation (precision, recall, F1)\n",
    "intersection = set(topk_evidence_ids).intersection(gold_evidence_list)\n",
    "print(f\"\\nMatching evidence passages: {intersection}\")\n",
    "precision = len(intersection) / len(topk_evidence_ids)\n",
    "recall = len(intersection) / len(gold_evidence_list)\n",
    "f1 = (2*precision*recall/(precision + recall)) if (precision + recall) > 0 else 0 \n",
    "print(f\"\\nPrecision: {precision}, Recall: {recall}, F1: {f1}\")"
   ]
  },
  {
   "cell_type": "code",
   "execution_count": null,
   "metadata": {},
   "outputs": [],
   "source": []
  }
 ],
 "metadata": {
  "kernelspec": {
   "display_name": "torch_clone",
   "language": "python",
   "name": "python3"
  },
  "language_info": {
   "codemirror_mode": {
    "name": "ipython",
    "version": 3
   },
   "file_extension": ".py",
   "mimetype": "text/x-python",
   "name": "python",
   "nbconvert_exporter": "python",
   "pygments_lexer": "ipython3",
   "version": "3.11.5"
  }
 },
 "nbformat": 4,
 "nbformat_minor": 2
}
