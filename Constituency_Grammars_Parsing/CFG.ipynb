{
 "cells": [
  {
   "cell_type": "markdown",
   "metadata": {},
   "source": [
    "#### Constituency/Context-Free/Phrase-Structure Grammars for English\n",
    "\n",
    "A `constituency/context-free grammar` allows us to describe the `syntax structure` of sentences from a `language` in a systematic and formal way.  We will define a language as the set of all possible grammatical sentences and we define a grammar as a set of `rules`, also called `productions`, that can (recursively) `generate` all sentences from the language.\n",
    "\n",
    "The key idea is that a group of words can combine to form a single unit, called a \"constituent\" or \"phrase\". E.g. In the sentence \"A large brown bear caught a fish.\", one of the constituents is \"A large brown bear\" also called a `noun phrase (NP)`. We can substitue this phrase with \"He\" and still get a grammatically valid sentence \"He caught a fish\". In a similar way, a group of constituents can be combined to form a new constituent (so this process is recursive). \n",
    "\n",
    "More formally, describing a sentence as a hierarchical structure of constituents, called a `parse tree`, can be done using a context-free grammar (CFG), which is a set of productions, and a `lexicon` (which is a set of words/symbols in the language).\n",
    "\n",
    "A context-free grammar $G$ is defined as the 4-tuple ($N$, $\\Sigma$, $R$, $S$) where \n",
    "\n",
    "$N$ is a set of `non-terminal symbols` (such as verb-phrases, noun-phrases, part-of-speech tags), \n",
    "\n",
    "$\\Sigma$ is a set of `terminal symbols` (such as words and punctuation symbols), \n",
    "\n",
    "$R$ is a set of productions of the form $A \\to B$, where $A \\in N$ and $B$ is a string of symbols from $N$ and $\\Sigma$\n",
    "\n",
    "and $S \\in N$ is a designated `start of sentence symbol`. "
   ]
  },
  {
   "cell_type": "code",
   "execution_count": 1,
   "metadata": {},
   "outputs": [],
   "source": [
    "import nltk\n",
    "from nltk.parse.generate import generate"
   ]
  },
  {
   "cell_type": "markdown",
   "metadata": {},
   "source": [
    "NLTK provides a nice module for defining and working with CFGs. We will use it to demonstrate a toy example. "
   ]
  },
  {
   "cell_type": "code",
   "execution_count": 11,
   "metadata": {},
   "outputs": [
    {
     "name": "stdout",
     "output_type": "stream",
     "text": [
      "['the', 'cow', 'eats', 'the', 'cow']\n",
      "['the', 'cow', 'eats', 'the', 'grass']\n",
      "['the', 'grass', 'eats', 'the', 'cow']\n",
      "['the', 'grass', 'eats', 'the', 'grass']\n"
     ]
    }
   ],
   "source": [
    "# define a simple toy grammar (lexicon of 4 words and only 3 different parts of speech)\n",
    "toy_grammar = nltk.CFG.fromstring(\"\"\"\n",
    "    S -> NP VP\n",
    "    VP -> V NP \n",
    "    NP -> DT NN \n",
    "    V -> \"eats\"\n",
    "    NN -> \"cow\" | \"grass\"\n",
    "    DT -> \"the\"\n",
    "    \"\"\")\n",
    "\n",
    "# now we can use this grammer to generate the language decribed by it\n",
    "language = []\n",
    "for sentence in generate(toy_grammar):\n",
    "    language.append(sentence)\n",
    "    print(sentence)     "
   ]
  },
  {
   "cell_type": "markdown",
   "metadata": {},
   "source": [
    "For our toy grammer, we have:\n",
    "\n",
    "$N = \\{ S, NP, VP, V, NN, DT\\}$\n",
    "\n",
    "$\\Sigma = \\{'cow', 'eats', 'grass', 'the'\\}$"
   ]
  },
  {
   "cell_type": "code",
   "execution_count": 10,
   "metadata": {},
   "outputs": [
    {
     "name": "stdout",
     "output_type": "stream",
     "text": [
      "S -> NP VP\n",
      "\tLHS: S\n",
      "\tRHS: (NP, VP)\n",
      "VP -> V NP\n",
      "\tLHS: VP\n",
      "\tRHS: (V, NP)\n",
      "NP -> DT NN\n",
      "\tLHS: NP\n",
      "\tRHS: (DT, NN)\n",
      "V -> 'eats'\n",
      "\tLHS: V\n",
      "\tRHS: ('eats',)\n",
      "NN -> 'cow'\n",
      "\tLHS: NN\n",
      "\tRHS: ('cow',)\n",
      "NN -> 'grass'\n",
      "\tLHS: NN\n",
      "\tRHS: ('grass',)\n",
      "DT -> 'the'\n",
      "\tLHS: DT\n",
      "\tRHS: ('the',)\n",
      "Non-terminals: {V, NN, DT, S, NP, VP}\n",
      "Terminals: {'grass', 'eats', 'the', 'cow'}\n"
     ]
    }
   ],
   "source": [
    "# let's take a look at each product, and see what the left and right hand sides are\n",
    "terminals = set()\n",
    "non_terminals = set()\n",
    "for production in toy_grammar.productions():\n",
    "    print(production)\n",
    "    print(f\"\\tLHS: {production.lhs()}\")\n",
    "    print(f\"\\tRHS: {production.rhs()}\")\n",
    "    non_terminals.add(production.lhs())\n",
    "    for symbol in production.rhs():\n",
    "        if nltk.grammar.is_terminal(symbol):\n",
    "            terminals.add(symbol)\n",
    "        else:\n",
    "            non_terminals.add(symbol)\n",
    "\n",
    "print(f\"Non-terminals: {non_terminals}\")\n",
    "print(f\"Terminals: {terminals}\")\n"
   ]
  },
  {
   "cell_type": "markdown",
   "metadata": {},
   "source": [
    "Note that this toy grammer is in `Chomsky Normal Form (CNF)`, i.e. each production is either of the form $A \\to B C$ or $A \\to a$, where $A,B,C \\in N$ and $a \\in \\Sigma$."
   ]
  },
  {
   "cell_type": "code",
   "execution_count": null,
   "metadata": {},
   "outputs": [],
   "source": []
  },
  {
   "cell_type": "code",
   "execution_count": null,
   "metadata": {},
   "outputs": [],
   "source": []
  }
 ],
 "metadata": {
  "kernelspec": {
   "display_name": "torch_clone",
   "language": "python",
   "name": "python3"
  },
  "language_info": {
   "codemirror_mode": {
    "name": "ipython",
    "version": 3
   },
   "file_extension": ".py",
   "mimetype": "text/x-python",
   "name": "python",
   "nbconvert_exporter": "python",
   "pygments_lexer": "ipython3",
   "version": "3.11.5"
  }
 },
 "nbformat": 4,
 "nbformat_minor": 2
}
